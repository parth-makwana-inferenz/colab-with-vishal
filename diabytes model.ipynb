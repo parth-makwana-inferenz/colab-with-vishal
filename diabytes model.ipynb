{
 "cells": [
  {
   "cell_type": "code",
   "execution_count": 1,
   "metadata": {},
   "outputs": [],
   "source": [
    "import sklearn \n",
    "import numpy as np \n",
    "import pandas as pd \n",
    "import seaborn as sns"
   ]
  },
  {
   "cell_type": "code",
   "execution_count": 2,
   "metadata": {},
   "outputs": [],
   "source": [
    "from sklearn.datasets import load_diabetes"
   ]
  },
  {
   "cell_type": "code",
   "execution_count": 3,
   "metadata": {},
   "outputs": [],
   "source": [
    "dia=load_diabetes()"
   ]
  },
  {
   "cell_type": "code",
   "execution_count": 4,
   "metadata": {},
   "outputs": [],
   "source": [
    "data=pd.DataFrame(dia.data,columns=dia.feature_names)"
   ]
  },
  {
   "cell_type": "code",
   "execution_count": 5,
   "metadata": {},
   "outputs": [
    {
     "data": {
      "text/html": [
       "<div>\n",
       "<style scoped>\n",
       "    .dataframe tbody tr th:only-of-type {\n",
       "        vertical-align: middle;\n",
       "    }\n",
       "\n",
       "    .dataframe tbody tr th {\n",
       "        vertical-align: top;\n",
       "    }\n",
       "\n",
       "    .dataframe thead th {\n",
       "        text-align: right;\n",
       "    }\n",
       "</style>\n",
       "<table border=\"1\" class=\"dataframe\">\n",
       "  <thead>\n",
       "    <tr style=\"text-align: right;\">\n",
       "      <th></th>\n",
       "      <th>age</th>\n",
       "      <th>sex</th>\n",
       "      <th>bmi</th>\n",
       "      <th>bp</th>\n",
       "      <th>s1</th>\n",
       "      <th>s2</th>\n",
       "      <th>s3</th>\n",
       "      <th>s4</th>\n",
       "      <th>s5</th>\n",
       "      <th>s6</th>\n",
       "    </tr>\n",
       "  </thead>\n",
       "  <tbody>\n",
       "    <tr>\n",
       "      <th>0</th>\n",
       "      <td>0.038076</td>\n",
       "      <td>0.050680</td>\n",
       "      <td>0.061696</td>\n",
       "      <td>0.021872</td>\n",
       "      <td>-0.044223</td>\n",
       "      <td>-0.034821</td>\n",
       "      <td>-0.043401</td>\n",
       "      <td>-0.002592</td>\n",
       "      <td>0.019907</td>\n",
       "      <td>-0.017646</td>\n",
       "    </tr>\n",
       "    <tr>\n",
       "      <th>1</th>\n",
       "      <td>-0.001882</td>\n",
       "      <td>-0.044642</td>\n",
       "      <td>-0.051474</td>\n",
       "      <td>-0.026328</td>\n",
       "      <td>-0.008449</td>\n",
       "      <td>-0.019163</td>\n",
       "      <td>0.074412</td>\n",
       "      <td>-0.039493</td>\n",
       "      <td>-0.068332</td>\n",
       "      <td>-0.092204</td>\n",
       "    </tr>\n",
       "    <tr>\n",
       "      <th>2</th>\n",
       "      <td>0.085299</td>\n",
       "      <td>0.050680</td>\n",
       "      <td>0.044451</td>\n",
       "      <td>-0.005670</td>\n",
       "      <td>-0.045599</td>\n",
       "      <td>-0.034194</td>\n",
       "      <td>-0.032356</td>\n",
       "      <td>-0.002592</td>\n",
       "      <td>0.002861</td>\n",
       "      <td>-0.025930</td>\n",
       "    </tr>\n",
       "    <tr>\n",
       "      <th>3</th>\n",
       "      <td>-0.089063</td>\n",
       "      <td>-0.044642</td>\n",
       "      <td>-0.011595</td>\n",
       "      <td>-0.036656</td>\n",
       "      <td>0.012191</td>\n",
       "      <td>0.024991</td>\n",
       "      <td>-0.036038</td>\n",
       "      <td>0.034309</td>\n",
       "      <td>0.022688</td>\n",
       "      <td>-0.009362</td>\n",
       "    </tr>\n",
       "    <tr>\n",
       "      <th>4</th>\n",
       "      <td>0.005383</td>\n",
       "      <td>-0.044642</td>\n",
       "      <td>-0.036385</td>\n",
       "      <td>0.021872</td>\n",
       "      <td>0.003935</td>\n",
       "      <td>0.015596</td>\n",
       "      <td>0.008142</td>\n",
       "      <td>-0.002592</td>\n",
       "      <td>-0.031988</td>\n",
       "      <td>-0.046641</td>\n",
       "    </tr>\n",
       "  </tbody>\n",
       "</table>\n",
       "</div>"
      ],
      "text/plain": [
       "        age       sex       bmi        bp        s1        s2        s3  \\\n",
       "0  0.038076  0.050680  0.061696  0.021872 -0.044223 -0.034821 -0.043401   \n",
       "1 -0.001882 -0.044642 -0.051474 -0.026328 -0.008449 -0.019163  0.074412   \n",
       "2  0.085299  0.050680  0.044451 -0.005670 -0.045599 -0.034194 -0.032356   \n",
       "3 -0.089063 -0.044642 -0.011595 -0.036656  0.012191  0.024991 -0.036038   \n",
       "4  0.005383 -0.044642 -0.036385  0.021872  0.003935  0.015596  0.008142   \n",
       "\n",
       "         s4        s5        s6  \n",
       "0 -0.002592  0.019907 -0.017646  \n",
       "1 -0.039493 -0.068332 -0.092204  \n",
       "2 -0.002592  0.002861 -0.025930  \n",
       "3  0.034309  0.022688 -0.009362  \n",
       "4 -0.002592 -0.031988 -0.046641  "
      ]
     },
     "execution_count": 5,
     "metadata": {},
     "output_type": "execute_result"
    }
   ],
   "source": [
    "data.head()"
   ]
  },
  {
   "cell_type": "code",
   "execution_count": 6,
   "metadata": {},
   "outputs": [],
   "source": [
    "data['target']=dia.target"
   ]
  },
  {
   "cell_type": "code",
   "execution_count": 7,
   "metadata": {},
   "outputs": [
    {
     "data": {
      "text/html": [
       "<div>\n",
       "<style scoped>\n",
       "    .dataframe tbody tr th:only-of-type {\n",
       "        vertical-align: middle;\n",
       "    }\n",
       "\n",
       "    .dataframe tbody tr th {\n",
       "        vertical-align: top;\n",
       "    }\n",
       "\n",
       "    .dataframe thead th {\n",
       "        text-align: right;\n",
       "    }\n",
       "</style>\n",
       "<table border=\"1\" class=\"dataframe\">\n",
       "  <thead>\n",
       "    <tr style=\"text-align: right;\">\n",
       "      <th></th>\n",
       "      <th>age</th>\n",
       "      <th>sex</th>\n",
       "      <th>bmi</th>\n",
       "      <th>bp</th>\n",
       "      <th>s1</th>\n",
       "      <th>s2</th>\n",
       "      <th>s3</th>\n",
       "      <th>s4</th>\n",
       "      <th>s5</th>\n",
       "      <th>s6</th>\n",
       "      <th>target</th>\n",
       "    </tr>\n",
       "  </thead>\n",
       "  <tbody>\n",
       "    <tr>\n",
       "      <th>0</th>\n",
       "      <td>0.038076</td>\n",
       "      <td>0.050680</td>\n",
       "      <td>0.061696</td>\n",
       "      <td>0.021872</td>\n",
       "      <td>-0.044223</td>\n",
       "      <td>-0.034821</td>\n",
       "      <td>-0.043401</td>\n",
       "      <td>-0.002592</td>\n",
       "      <td>0.019907</td>\n",
       "      <td>-0.017646</td>\n",
       "      <td>151.0</td>\n",
       "    </tr>\n",
       "    <tr>\n",
       "      <th>1</th>\n",
       "      <td>-0.001882</td>\n",
       "      <td>-0.044642</td>\n",
       "      <td>-0.051474</td>\n",
       "      <td>-0.026328</td>\n",
       "      <td>-0.008449</td>\n",
       "      <td>-0.019163</td>\n",
       "      <td>0.074412</td>\n",
       "      <td>-0.039493</td>\n",
       "      <td>-0.068332</td>\n",
       "      <td>-0.092204</td>\n",
       "      <td>75.0</td>\n",
       "    </tr>\n",
       "    <tr>\n",
       "      <th>2</th>\n",
       "      <td>0.085299</td>\n",
       "      <td>0.050680</td>\n",
       "      <td>0.044451</td>\n",
       "      <td>-0.005670</td>\n",
       "      <td>-0.045599</td>\n",
       "      <td>-0.034194</td>\n",
       "      <td>-0.032356</td>\n",
       "      <td>-0.002592</td>\n",
       "      <td>0.002861</td>\n",
       "      <td>-0.025930</td>\n",
       "      <td>141.0</td>\n",
       "    </tr>\n",
       "    <tr>\n",
       "      <th>3</th>\n",
       "      <td>-0.089063</td>\n",
       "      <td>-0.044642</td>\n",
       "      <td>-0.011595</td>\n",
       "      <td>-0.036656</td>\n",
       "      <td>0.012191</td>\n",
       "      <td>0.024991</td>\n",
       "      <td>-0.036038</td>\n",
       "      <td>0.034309</td>\n",
       "      <td>0.022688</td>\n",
       "      <td>-0.009362</td>\n",
       "      <td>206.0</td>\n",
       "    </tr>\n",
       "    <tr>\n",
       "      <th>4</th>\n",
       "      <td>0.005383</td>\n",
       "      <td>-0.044642</td>\n",
       "      <td>-0.036385</td>\n",
       "      <td>0.021872</td>\n",
       "      <td>0.003935</td>\n",
       "      <td>0.015596</td>\n",
       "      <td>0.008142</td>\n",
       "      <td>-0.002592</td>\n",
       "      <td>-0.031988</td>\n",
       "      <td>-0.046641</td>\n",
       "      <td>135.0</td>\n",
       "    </tr>\n",
       "  </tbody>\n",
       "</table>\n",
       "</div>"
      ],
      "text/plain": [
       "        age       sex       bmi        bp        s1        s2        s3  \\\n",
       "0  0.038076  0.050680  0.061696  0.021872 -0.044223 -0.034821 -0.043401   \n",
       "1 -0.001882 -0.044642 -0.051474 -0.026328 -0.008449 -0.019163  0.074412   \n",
       "2  0.085299  0.050680  0.044451 -0.005670 -0.045599 -0.034194 -0.032356   \n",
       "3 -0.089063 -0.044642 -0.011595 -0.036656  0.012191  0.024991 -0.036038   \n",
       "4  0.005383 -0.044642 -0.036385  0.021872  0.003935  0.015596  0.008142   \n",
       "\n",
       "         s4        s5        s6  target  \n",
       "0 -0.002592  0.019907 -0.017646   151.0  \n",
       "1 -0.039493 -0.068332 -0.092204    75.0  \n",
       "2 -0.002592  0.002861 -0.025930   141.0  \n",
       "3  0.034309  0.022688 -0.009362   206.0  \n",
       "4 -0.002592 -0.031988 -0.046641   135.0  "
      ]
     },
     "execution_count": 7,
     "metadata": {},
     "output_type": "execute_result"
    }
   ],
   "source": [
    "data.head()"
   ]
  },
  {
   "cell_type": "code",
   "execution_count": 8,
   "metadata": {},
   "outputs": [],
   "source": [
    "data['target']=data['target'].map(lambda x : 1 if x>=120 else 0)"
   ]
  },
  {
   "cell_type": "code",
   "execution_count": 9,
   "metadata": {},
   "outputs": [
    {
     "data": {
      "text/html": [
       "<div>\n",
       "<style scoped>\n",
       "    .dataframe tbody tr th:only-of-type {\n",
       "        vertical-align: middle;\n",
       "    }\n",
       "\n",
       "    .dataframe tbody tr th {\n",
       "        vertical-align: top;\n",
       "    }\n",
       "\n",
       "    .dataframe thead th {\n",
       "        text-align: right;\n",
       "    }\n",
       "</style>\n",
       "<table border=\"1\" class=\"dataframe\">\n",
       "  <thead>\n",
       "    <tr style=\"text-align: right;\">\n",
       "      <th></th>\n",
       "      <th>age</th>\n",
       "      <th>sex</th>\n",
       "      <th>bmi</th>\n",
       "      <th>bp</th>\n",
       "      <th>s1</th>\n",
       "      <th>s2</th>\n",
       "      <th>s3</th>\n",
       "      <th>s4</th>\n",
       "      <th>s5</th>\n",
       "      <th>s6</th>\n",
       "      <th>target</th>\n",
       "    </tr>\n",
       "  </thead>\n",
       "  <tbody>\n",
       "    <tr>\n",
       "      <th>0</th>\n",
       "      <td>0.038076</td>\n",
       "      <td>0.050680</td>\n",
       "      <td>0.061696</td>\n",
       "      <td>0.021872</td>\n",
       "      <td>-0.044223</td>\n",
       "      <td>-0.034821</td>\n",
       "      <td>-0.043401</td>\n",
       "      <td>-0.002592</td>\n",
       "      <td>0.019907</td>\n",
       "      <td>-0.017646</td>\n",
       "      <td>1</td>\n",
       "    </tr>\n",
       "    <tr>\n",
       "      <th>1</th>\n",
       "      <td>-0.001882</td>\n",
       "      <td>-0.044642</td>\n",
       "      <td>-0.051474</td>\n",
       "      <td>-0.026328</td>\n",
       "      <td>-0.008449</td>\n",
       "      <td>-0.019163</td>\n",
       "      <td>0.074412</td>\n",
       "      <td>-0.039493</td>\n",
       "      <td>-0.068332</td>\n",
       "      <td>-0.092204</td>\n",
       "      <td>0</td>\n",
       "    </tr>\n",
       "    <tr>\n",
       "      <th>2</th>\n",
       "      <td>0.085299</td>\n",
       "      <td>0.050680</td>\n",
       "      <td>0.044451</td>\n",
       "      <td>-0.005670</td>\n",
       "      <td>-0.045599</td>\n",
       "      <td>-0.034194</td>\n",
       "      <td>-0.032356</td>\n",
       "      <td>-0.002592</td>\n",
       "      <td>0.002861</td>\n",
       "      <td>-0.025930</td>\n",
       "      <td>1</td>\n",
       "    </tr>\n",
       "    <tr>\n",
       "      <th>3</th>\n",
       "      <td>-0.089063</td>\n",
       "      <td>-0.044642</td>\n",
       "      <td>-0.011595</td>\n",
       "      <td>-0.036656</td>\n",
       "      <td>0.012191</td>\n",
       "      <td>0.024991</td>\n",
       "      <td>-0.036038</td>\n",
       "      <td>0.034309</td>\n",
       "      <td>0.022688</td>\n",
       "      <td>-0.009362</td>\n",
       "      <td>1</td>\n",
       "    </tr>\n",
       "    <tr>\n",
       "      <th>4</th>\n",
       "      <td>0.005383</td>\n",
       "      <td>-0.044642</td>\n",
       "      <td>-0.036385</td>\n",
       "      <td>0.021872</td>\n",
       "      <td>0.003935</td>\n",
       "      <td>0.015596</td>\n",
       "      <td>0.008142</td>\n",
       "      <td>-0.002592</td>\n",
       "      <td>-0.031988</td>\n",
       "      <td>-0.046641</td>\n",
       "      <td>1</td>\n",
       "    </tr>\n",
       "  </tbody>\n",
       "</table>\n",
       "</div>"
      ],
      "text/plain": [
       "        age       sex       bmi        bp        s1        s2        s3  \\\n",
       "0  0.038076  0.050680  0.061696  0.021872 -0.044223 -0.034821 -0.043401   \n",
       "1 -0.001882 -0.044642 -0.051474 -0.026328 -0.008449 -0.019163  0.074412   \n",
       "2  0.085299  0.050680  0.044451 -0.005670 -0.045599 -0.034194 -0.032356   \n",
       "3 -0.089063 -0.044642 -0.011595 -0.036656  0.012191  0.024991 -0.036038   \n",
       "4  0.005383 -0.044642 -0.036385  0.021872  0.003935  0.015596  0.008142   \n",
       "\n",
       "         s4        s5        s6  target  \n",
       "0 -0.002592  0.019907 -0.017646       1  \n",
       "1 -0.039493 -0.068332 -0.092204       0  \n",
       "2 -0.002592  0.002861 -0.025930       1  \n",
       "3  0.034309  0.022688 -0.009362       1  \n",
       "4 -0.002592 -0.031988 -0.046641       1  "
      ]
     },
     "execution_count": 9,
     "metadata": {},
     "output_type": "execute_result"
    }
   ],
   "source": [
    "data.head()"
   ]
  },
  {
   "cell_type": "code",
   "execution_count": 10,
   "metadata": {},
   "outputs": [
    {
     "data": {
      "text/html": [
       "<div>\n",
       "<style scoped>\n",
       "    .dataframe tbody tr th:only-of-type {\n",
       "        vertical-align: middle;\n",
       "    }\n",
       "\n",
       "    .dataframe tbody tr th {\n",
       "        vertical-align: top;\n",
       "    }\n",
       "\n",
       "    .dataframe thead th {\n",
       "        text-align: right;\n",
       "    }\n",
       "</style>\n",
       "<table border=\"1\" class=\"dataframe\">\n",
       "  <thead>\n",
       "    <tr style=\"text-align: right;\">\n",
       "      <th></th>\n",
       "      <th>age</th>\n",
       "      <th>sex</th>\n",
       "      <th>bmi</th>\n",
       "      <th>bp</th>\n",
       "      <th>s1</th>\n",
       "      <th>s2</th>\n",
       "      <th>s3</th>\n",
       "      <th>s4</th>\n",
       "      <th>s5</th>\n",
       "      <th>s6</th>\n",
       "      <th>target</th>\n",
       "    </tr>\n",
       "  </thead>\n",
       "  <tbody>\n",
       "    <tr>\n",
       "      <th>age</th>\n",
       "      <td>1.000000</td>\n",
       "      <td>0.173737</td>\n",
       "      <td>0.185085</td>\n",
       "      <td>0.335428</td>\n",
       "      <td>0.260061</td>\n",
       "      <td>0.219243</td>\n",
       "      <td>-0.075181</td>\n",
       "      <td>0.203841</td>\n",
       "      <td>0.270774</td>\n",
       "      <td>0.301731</td>\n",
       "      <td>0.164454</td>\n",
       "    </tr>\n",
       "    <tr>\n",
       "      <th>sex</th>\n",
       "      <td>0.173737</td>\n",
       "      <td>1.000000</td>\n",
       "      <td>0.088161</td>\n",
       "      <td>0.241010</td>\n",
       "      <td>0.035277</td>\n",
       "      <td>0.142637</td>\n",
       "      <td>-0.379090</td>\n",
       "      <td>0.332115</td>\n",
       "      <td>0.149916</td>\n",
       "      <td>0.208133</td>\n",
       "      <td>0.015682</td>\n",
       "    </tr>\n",
       "    <tr>\n",
       "      <th>bmi</th>\n",
       "      <td>0.185085</td>\n",
       "      <td>0.088161</td>\n",
       "      <td>1.000000</td>\n",
       "      <td>0.395411</td>\n",
       "      <td>0.249777</td>\n",
       "      <td>0.261170</td>\n",
       "      <td>-0.366811</td>\n",
       "      <td>0.413807</td>\n",
       "      <td>0.446157</td>\n",
       "      <td>0.388680</td>\n",
       "      <td>0.467612</td>\n",
       "    </tr>\n",
       "    <tr>\n",
       "      <th>bp</th>\n",
       "      <td>0.335428</td>\n",
       "      <td>0.241010</td>\n",
       "      <td>0.395411</td>\n",
       "      <td>1.000000</td>\n",
       "      <td>0.242464</td>\n",
       "      <td>0.185548</td>\n",
       "      <td>-0.178762</td>\n",
       "      <td>0.257650</td>\n",
       "      <td>0.393480</td>\n",
       "      <td>0.390430</td>\n",
       "      <td>0.339481</td>\n",
       "    </tr>\n",
       "    <tr>\n",
       "      <th>s1</th>\n",
       "      <td>0.260061</td>\n",
       "      <td>0.035277</td>\n",
       "      <td>0.249777</td>\n",
       "      <td>0.242464</td>\n",
       "      <td>1.000000</td>\n",
       "      <td>0.896663</td>\n",
       "      <td>0.051519</td>\n",
       "      <td>0.542207</td>\n",
       "      <td>0.515503</td>\n",
       "      <td>0.325717</td>\n",
       "      <td>0.166713</td>\n",
       "    </tr>\n",
       "    <tr>\n",
       "      <th>s2</th>\n",
       "      <td>0.219243</td>\n",
       "      <td>0.142637</td>\n",
       "      <td>0.261170</td>\n",
       "      <td>0.185548</td>\n",
       "      <td>0.896663</td>\n",
       "      <td>1.000000</td>\n",
       "      <td>-0.196455</td>\n",
       "      <td>0.659817</td>\n",
       "      <td>0.318357</td>\n",
       "      <td>0.290600</td>\n",
       "      <td>0.161795</td>\n",
       "    </tr>\n",
       "    <tr>\n",
       "      <th>s3</th>\n",
       "      <td>-0.075181</td>\n",
       "      <td>-0.379090</td>\n",
       "      <td>-0.366811</td>\n",
       "      <td>-0.178762</td>\n",
       "      <td>0.051519</td>\n",
       "      <td>-0.196455</td>\n",
       "      <td>1.000000</td>\n",
       "      <td>-0.738493</td>\n",
       "      <td>-0.398577</td>\n",
       "      <td>-0.273697</td>\n",
       "      <td>-0.394714</td>\n",
       "    </tr>\n",
       "    <tr>\n",
       "      <th>s4</th>\n",
       "      <td>0.203841</td>\n",
       "      <td>0.332115</td>\n",
       "      <td>0.413807</td>\n",
       "      <td>0.257650</td>\n",
       "      <td>0.542207</td>\n",
       "      <td>0.659817</td>\n",
       "      <td>-0.738493</td>\n",
       "      <td>1.000000</td>\n",
       "      <td>0.617859</td>\n",
       "      <td>0.417212</td>\n",
       "      <td>0.387442</td>\n",
       "    </tr>\n",
       "    <tr>\n",
       "      <th>s5</th>\n",
       "      <td>0.270774</td>\n",
       "      <td>0.149916</td>\n",
       "      <td>0.446157</td>\n",
       "      <td>0.393480</td>\n",
       "      <td>0.515503</td>\n",
       "      <td>0.318357</td>\n",
       "      <td>-0.398577</td>\n",
       "      <td>0.617859</td>\n",
       "      <td>1.000000</td>\n",
       "      <td>0.464669</td>\n",
       "      <td>0.487517</td>\n",
       "    </tr>\n",
       "    <tr>\n",
       "      <th>s6</th>\n",
       "      <td>0.301731</td>\n",
       "      <td>0.208133</td>\n",
       "      <td>0.388680</td>\n",
       "      <td>0.390430</td>\n",
       "      <td>0.325717</td>\n",
       "      <td>0.290600</td>\n",
       "      <td>-0.273697</td>\n",
       "      <td>0.417212</td>\n",
       "      <td>0.464669</td>\n",
       "      <td>1.000000</td>\n",
       "      <td>0.275043</td>\n",
       "    </tr>\n",
       "    <tr>\n",
       "      <th>target</th>\n",
       "      <td>0.164454</td>\n",
       "      <td>0.015682</td>\n",
       "      <td>0.467612</td>\n",
       "      <td>0.339481</td>\n",
       "      <td>0.166713</td>\n",
       "      <td>0.161795</td>\n",
       "      <td>-0.394714</td>\n",
       "      <td>0.387442</td>\n",
       "      <td>0.487517</td>\n",
       "      <td>0.275043</td>\n",
       "      <td>1.000000</td>\n",
       "    </tr>\n",
       "  </tbody>\n",
       "</table>\n",
       "</div>"
      ],
      "text/plain": [
       "             age       sex       bmi        bp        s1        s2        s3  \\\n",
       "age     1.000000  0.173737  0.185085  0.335428  0.260061  0.219243 -0.075181   \n",
       "sex     0.173737  1.000000  0.088161  0.241010  0.035277  0.142637 -0.379090   \n",
       "bmi     0.185085  0.088161  1.000000  0.395411  0.249777  0.261170 -0.366811   \n",
       "bp      0.335428  0.241010  0.395411  1.000000  0.242464  0.185548 -0.178762   \n",
       "s1      0.260061  0.035277  0.249777  0.242464  1.000000  0.896663  0.051519   \n",
       "s2      0.219243  0.142637  0.261170  0.185548  0.896663  1.000000 -0.196455   \n",
       "s3     -0.075181 -0.379090 -0.366811 -0.178762  0.051519 -0.196455  1.000000   \n",
       "s4      0.203841  0.332115  0.413807  0.257650  0.542207  0.659817 -0.738493   \n",
       "s5      0.270774  0.149916  0.446157  0.393480  0.515503  0.318357 -0.398577   \n",
       "s6      0.301731  0.208133  0.388680  0.390430  0.325717  0.290600 -0.273697   \n",
       "target  0.164454  0.015682  0.467612  0.339481  0.166713  0.161795 -0.394714   \n",
       "\n",
       "              s4        s5        s6    target  \n",
       "age     0.203841  0.270774  0.301731  0.164454  \n",
       "sex     0.332115  0.149916  0.208133  0.015682  \n",
       "bmi     0.413807  0.446157  0.388680  0.467612  \n",
       "bp      0.257650  0.393480  0.390430  0.339481  \n",
       "s1      0.542207  0.515503  0.325717  0.166713  \n",
       "s2      0.659817  0.318357  0.290600  0.161795  \n",
       "s3     -0.738493 -0.398577 -0.273697 -0.394714  \n",
       "s4      1.000000  0.617859  0.417212  0.387442  \n",
       "s5      0.617859  1.000000  0.464669  0.487517  \n",
       "s6      0.417212  0.464669  1.000000  0.275043  \n",
       "target  0.387442  0.487517  0.275043  1.000000  "
      ]
     },
     "execution_count": 10,
     "metadata": {},
     "output_type": "execute_result"
    }
   ],
   "source": [
    "data.corr()"
   ]
  },
  {
   "cell_type": "code",
   "execution_count": 11,
   "metadata": {},
   "outputs": [],
   "source": [
    "data.drop(['s4','s2','s5'],axis=1,inplace=True)"
   ]
  },
  {
   "cell_type": "code",
   "execution_count": 12,
   "metadata": {},
   "outputs": [
    {
     "data": {
      "text/plain": [
       "<Axes: >"
      ]
     },
     "execution_count": 12,
     "metadata": {},
     "output_type": "execute_result"
    },
    {
     "data": {
      "image/png": "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",
      "text/plain": [
       "<Figure size 640x480 with 2 Axes>"
      ]
     },
     "metadata": {},
     "output_type": "display_data"
    }
   ],
   "source": [
    "sns.heatmap(data.corr(),annot=True)"
   ]
  },
  {
   "cell_type": "code",
   "execution_count": 13,
   "metadata": {},
   "outputs": [],
   "source": [
    "import matplotlib.pyplot as plt"
   ]
  },
  {
   "cell_type": "code",
   "execution_count": 14,
   "metadata": {},
   "outputs": [
    {
     "data": {
      "text/html": [
       "<div>\n",
       "<style scoped>\n",
       "    .dataframe tbody tr th:only-of-type {\n",
       "        vertical-align: middle;\n",
       "    }\n",
       "\n",
       "    .dataframe tbody tr th {\n",
       "        vertical-align: top;\n",
       "    }\n",
       "\n",
       "    .dataframe thead th {\n",
       "        text-align: right;\n",
       "    }\n",
       "</style>\n",
       "<table border=\"1\" class=\"dataframe\">\n",
       "  <thead>\n",
       "    <tr style=\"text-align: right;\">\n",
       "      <th></th>\n",
       "      <th>age</th>\n",
       "      <th>sex</th>\n",
       "      <th>bmi</th>\n",
       "      <th>bp</th>\n",
       "      <th>s1</th>\n",
       "      <th>s3</th>\n",
       "      <th>s6</th>\n",
       "      <th>target</th>\n",
       "    </tr>\n",
       "  </thead>\n",
       "  <tbody>\n",
       "    <tr>\n",
       "      <th>0</th>\n",
       "      <td>0.038076</td>\n",
       "      <td>0.050680</td>\n",
       "      <td>0.061696</td>\n",
       "      <td>0.021872</td>\n",
       "      <td>-0.044223</td>\n",
       "      <td>-0.043401</td>\n",
       "      <td>-0.017646</td>\n",
       "      <td>1</td>\n",
       "    </tr>\n",
       "    <tr>\n",
       "      <th>1</th>\n",
       "      <td>-0.001882</td>\n",
       "      <td>-0.044642</td>\n",
       "      <td>-0.051474</td>\n",
       "      <td>-0.026328</td>\n",
       "      <td>-0.008449</td>\n",
       "      <td>0.074412</td>\n",
       "      <td>-0.092204</td>\n",
       "      <td>0</td>\n",
       "    </tr>\n",
       "    <tr>\n",
       "      <th>2</th>\n",
       "      <td>0.085299</td>\n",
       "      <td>0.050680</td>\n",
       "      <td>0.044451</td>\n",
       "      <td>-0.005670</td>\n",
       "      <td>-0.045599</td>\n",
       "      <td>-0.032356</td>\n",
       "      <td>-0.025930</td>\n",
       "      <td>1</td>\n",
       "    </tr>\n",
       "    <tr>\n",
       "      <th>3</th>\n",
       "      <td>-0.089063</td>\n",
       "      <td>-0.044642</td>\n",
       "      <td>-0.011595</td>\n",
       "      <td>-0.036656</td>\n",
       "      <td>0.012191</td>\n",
       "      <td>-0.036038</td>\n",
       "      <td>-0.009362</td>\n",
       "      <td>1</td>\n",
       "    </tr>\n",
       "    <tr>\n",
       "      <th>4</th>\n",
       "      <td>0.005383</td>\n",
       "      <td>-0.044642</td>\n",
       "      <td>-0.036385</td>\n",
       "      <td>0.021872</td>\n",
       "      <td>0.003935</td>\n",
       "      <td>0.008142</td>\n",
       "      <td>-0.046641</td>\n",
       "      <td>1</td>\n",
       "    </tr>\n",
       "  </tbody>\n",
       "</table>\n",
       "</div>"
      ],
      "text/plain": [
       "        age       sex       bmi        bp        s1        s3        s6  \\\n",
       "0  0.038076  0.050680  0.061696  0.021872 -0.044223 -0.043401 -0.017646   \n",
       "1 -0.001882 -0.044642 -0.051474 -0.026328 -0.008449  0.074412 -0.092204   \n",
       "2  0.085299  0.050680  0.044451 -0.005670 -0.045599 -0.032356 -0.025930   \n",
       "3 -0.089063 -0.044642 -0.011595 -0.036656  0.012191 -0.036038 -0.009362   \n",
       "4  0.005383 -0.044642 -0.036385  0.021872  0.003935  0.008142 -0.046641   \n",
       "\n",
       "   target  \n",
       "0       1  \n",
       "1       0  \n",
       "2       1  \n",
       "3       1  \n",
       "4       1  "
      ]
     },
     "execution_count": 14,
     "metadata": {},
     "output_type": "execute_result"
    }
   ],
   "source": [
    "data.head()"
   ]
  },
  {
   "cell_type": "code",
   "execution_count": 15,
   "metadata": {},
   "outputs": [
    {
     "data": {
      "text/plain": [
       "Index(['age', 'sex', 'bmi', 'bp', 's1', 's3', 's6', 'target'], dtype='object')"
      ]
     },
     "execution_count": 15,
     "metadata": {},
     "output_type": "execute_result"
    }
   ],
   "source": [
    "data.columns"
   ]
  },
  {
   "cell_type": "code",
   "execution_count": 16,
   "metadata": {},
   "outputs": [],
   "source": [
    "X=data[['age', 'sex', 'bmi', 'bp', 's1', 's3', 's6']]\n",
    "Y=data['target']"
   ]
  },
  {
   "cell_type": "code",
   "execution_count": 17,
   "metadata": {},
   "outputs": [],
   "source": [
    "from sklearn.model_selection import train_test_split\n",
    "X_train, X_test, y_train, y_test = train_test_split(X,Y, test_size=0.33, random_state=42)"
   ]
  },
  {
   "cell_type": "code",
   "execution_count": 18,
   "metadata": {},
   "outputs": [],
   "source": [
    "from sklearn.linear_model import LogisticRegression"
   ]
  },
  {
   "cell_type": "code",
   "execution_count": 19,
   "metadata": {},
   "outputs": [
    {
     "data": {
      "text/html": [
       "<style>#sk-container-id-1 {color: black;}#sk-container-id-1 pre{padding: 0;}#sk-container-id-1 div.sk-toggleable {background-color: white;}#sk-container-id-1 label.sk-toggleable__label {cursor: pointer;display: block;width: 100%;margin-bottom: 0;padding: 0.3em;box-sizing: border-box;text-align: center;}#sk-container-id-1 label.sk-toggleable__label-arrow:before {content: \"▸\";float: left;margin-right: 0.25em;color: #696969;}#sk-container-id-1 label.sk-toggleable__label-arrow:hover:before {color: black;}#sk-container-id-1 div.sk-estimator:hover label.sk-toggleable__label-arrow:before {color: black;}#sk-container-id-1 div.sk-toggleable__content {max-height: 0;max-width: 0;overflow: hidden;text-align: left;background-color: #f0f8ff;}#sk-container-id-1 div.sk-toggleable__content pre {margin: 0.2em;color: black;border-radius: 0.25em;background-color: #f0f8ff;}#sk-container-id-1 input.sk-toggleable__control:checked~div.sk-toggleable__content {max-height: 200px;max-width: 100%;overflow: auto;}#sk-container-id-1 input.sk-toggleable__control:checked~label.sk-toggleable__label-arrow:before {content: \"▾\";}#sk-container-id-1 div.sk-estimator input.sk-toggleable__control:checked~label.sk-toggleable__label {background-color: #d4ebff;}#sk-container-id-1 div.sk-label input.sk-toggleable__control:checked~label.sk-toggleable__label {background-color: #d4ebff;}#sk-container-id-1 input.sk-hidden--visually {border: 0;clip: rect(1px 1px 1px 1px);clip: rect(1px, 1px, 1px, 1px);height: 1px;margin: -1px;overflow: hidden;padding: 0;position: absolute;width: 1px;}#sk-container-id-1 div.sk-estimator {font-family: monospace;background-color: #f0f8ff;border: 1px dotted black;border-radius: 0.25em;box-sizing: border-box;margin-bottom: 0.5em;}#sk-container-id-1 div.sk-estimator:hover {background-color: #d4ebff;}#sk-container-id-1 div.sk-parallel-item::after {content: \"\";width: 100%;border-bottom: 1px solid gray;flex-grow: 1;}#sk-container-id-1 div.sk-label:hover label.sk-toggleable__label {background-color: #d4ebff;}#sk-container-id-1 div.sk-serial::before {content: \"\";position: absolute;border-left: 1px solid gray;box-sizing: border-box;top: 0;bottom: 0;left: 50%;z-index: 0;}#sk-container-id-1 div.sk-serial {display: flex;flex-direction: column;align-items: center;background-color: white;padding-right: 0.2em;padding-left: 0.2em;position: relative;}#sk-container-id-1 div.sk-item {position: relative;z-index: 1;}#sk-container-id-1 div.sk-parallel {display: flex;align-items: stretch;justify-content: center;background-color: white;position: relative;}#sk-container-id-1 div.sk-item::before, #sk-container-id-1 div.sk-parallel-item::before {content: \"\";position: absolute;border-left: 1px solid gray;box-sizing: border-box;top: 0;bottom: 0;left: 50%;z-index: -1;}#sk-container-id-1 div.sk-parallel-item {display: flex;flex-direction: column;z-index: 1;position: relative;background-color: white;}#sk-container-id-1 div.sk-parallel-item:first-child::after {align-self: flex-end;width: 50%;}#sk-container-id-1 div.sk-parallel-item:last-child::after {align-self: flex-start;width: 50%;}#sk-container-id-1 div.sk-parallel-item:only-child::after {width: 0;}#sk-container-id-1 div.sk-dashed-wrapped {border: 1px dashed gray;margin: 0 0.4em 0.5em 0.4em;box-sizing: border-box;padding-bottom: 0.4em;background-color: white;}#sk-container-id-1 div.sk-label label {font-family: monospace;font-weight: bold;display: inline-block;line-height: 1.2em;}#sk-container-id-1 div.sk-label-container {text-align: center;}#sk-container-id-1 div.sk-container {/* jupyter's `normalize.less` sets `[hidden] { display: none; }` but bootstrap.min.css set `[hidden] { display: none !important; }` so we also need the `!important` here to be able to override the default hidden behavior on the sphinx rendered scikit-learn.org. See: https://github.com/scikit-learn/scikit-learn/issues/21755 */display: inline-block !important;position: relative;}#sk-container-id-1 div.sk-text-repr-fallback {display: none;}</style><div id=\"sk-container-id-1\" class=\"sk-top-container\"><div class=\"sk-text-repr-fallback\"><pre>LogisticRegression()</pre><b>In a Jupyter environment, please rerun this cell to show the HTML representation or trust the notebook. <br />On GitHub, the HTML representation is unable to render, please try loading this page with nbviewer.org.</b></div><div class=\"sk-container\" hidden><div class=\"sk-item\"><div class=\"sk-estimator sk-toggleable\"><input class=\"sk-toggleable__control sk-hidden--visually\" id=\"sk-estimator-id-1\" type=\"checkbox\" checked><label for=\"sk-estimator-id-1\" class=\"sk-toggleable__label sk-toggleable__label-arrow\">LogisticRegression</label><div class=\"sk-toggleable__content\"><pre>LogisticRegression()</pre></div></div></div></div></div>"
      ],
      "text/plain": [
       "LogisticRegression()"
      ]
     },
     "execution_count": 19,
     "metadata": {},
     "output_type": "execute_result"
    }
   ],
   "source": [
    "lr=LogisticRegression()\n",
    "lr.fit(X_train,y_train)"
   ]
  },
  {
   "cell_type": "code",
   "execution_count": 20,
   "metadata": {},
   "outputs": [],
   "source": [
    "pred=lr.predict(X_test)"
   ]
  },
  {
   "cell_type": "code",
   "execution_count": 21,
   "metadata": {},
   "outputs": [
    {
     "data": {
      "text/plain": [
       "0.6418918918918919"
      ]
     },
     "execution_count": 21,
     "metadata": {},
     "output_type": "execute_result"
    }
   ],
   "source": [
    "lr.score(X_train,y_train)"
   ]
  },
  {
   "cell_type": "code",
   "execution_count": 22,
   "metadata": {},
   "outputs": [
    {
     "name": "stdout",
     "output_type": "stream",
     "text": [
      "              precision    recall  f1-score   support\n",
      "\n",
      "           0       0.77      0.27      0.40        62\n",
      "           1       0.64      0.94      0.76        84\n",
      "\n",
      "    accuracy                           0.66       146\n",
      "   macro avg       0.70      0.61      0.58       146\n",
      "weighted avg       0.69      0.66      0.61       146\n",
      "\n"
     ]
    }
   ],
   "source": [
    "from sklearn.metrics import classification_report\n",
    "print(classification_report(y_test,pred))"
   ]
  },
  {
   "cell_type": "code",
   "execution_count": 40,
   "metadata": {},
   "outputs": [],
   "source": [
    "from sklearn.decomposition import PCA\n",
    "pca = PCA(n_components=0.5)\n",
    "# pca_featur=pca.fit_transform(X)jhhffhjh"
   ]
  },
  {
   "cell_type": "code",
   "execution_count": 47,
   "metadata": {},
   "outputs": [],
   "source": [
    "pca_featur=pca_featur/pca_featur.max()"
   ]
  },
  {
   "cell_type": "code",
   "execution_count": 48,
   "metadata": {},
   "outputs": [],
   "source": [
    "from sklearn.model_selection import train_test_split\n",
    "# X_train, X_test, y_train, y_test = train_test_split(pca_featur,Y, test_size=0.33, random_state=42)bdfbhxdfbhxdfhxdfgh"
   ]
  },
  {
   "cell_type": "code",
   "execution_count": 49,
   "metadata": {},
   "outputs": [
    {
     "data": {
      "text/plain": [
       "0.7027027027027027"
      ]
     },
     "execution_count": 49,
     "metadata": {},
     "output_type": "execute_result"
    }
   ],
   "source": [
    "lr.fit(X_train,y_train)\n",
    "pred=lr.predict(X_test)\n",
    "lr.score(X_train,y_train)"
   ]
  },
  {
   "cell_type": "code",
   "execution_count": 51,
   "metadata": {},
   "outputs": [
    {
     "name": "stdout",
     "output_type": "stream",
     "text": [
      "              precision    recall  f1-score   support\n",
      "\n",
      "           0       0.65      0.58      0.62        62\n",
      "           1       0.71      0.77      0.74        84\n",
      "\n",
      "    accuracy                           0.69       146\n",
      "   macro avg       0.68      0.68      0.68       146\n",
      "weighted avg       0.69      0.69      0.69       146\n",
      "\n",
      "[[36 26]\n",
      " [19 65]]\n"
     ]
    }
   ],
   "source": [
    "from sklearn.metrics import classification_report,confusion_matrix\n",
    "print(classification_report(y_test,pred))\n",
    "print(confusion_matrix(y_test,pred))sgserggsdegser"
   ]
  },
  {
   "cell_type": "code",
   "execution_count": 1,
   "metadata": {},
   "outputs": [
    {
     "ename": "NameError",
     "evalue": "name 'fewrfe' is not defined",
     "output_type": "error",
     "traceback": [
      "\u001b[1;31m---------------------------------------------------------------------------\u001b[0m",
      "\u001b[1;31mNameError\u001b[0m                                 Traceback (most recent call last)",
      "Cell \u001b[1;32mIn[1], line 1\u001b[0m\n\u001b[1;32m----> 1\u001b[0m fewrfe\n",
      "\u001b[1;31mNameError\u001b[0m: name 'fewrfe' is not defined"
     ]
    }
   ],
   "source": [
    "fewrfe"
   ]
  },
  {
   "cell_type": "code",
   "execution_count": 3,
   "metadata": {},
   "outputs": [
    {
     "name": "stdout",
     "output_type": "stream",
     "text": [
      "hello world\n"
     ]
    }
   ],
   "source": [
    "\n",
    "print(\"hello world\")"
=======
<<<<<<< HEAD
    "\n",
    "print(\"hello world\")"
=======
    "print(\"this is the new channge\")"
>>>>>>> 5402f17ebea01497ce43d381a9a529d594ee310b
>>>>>>> 1617c82e50ff1a7bd194e94be89834888b6ad89f
   ]
  },
  {
   "cell_type": "code",
   "execution_count": null,
   "metadata": {},
   "outputs": [],
   "source": []
  }
 ],
 "metadata": {
  "kernelspec": {
   "display_name": "base",
   "language": "python",
   "name": "python3"
  },
  "language_info": {
   "codemirror_mode": {
    "name": "ipython",
    "version": 3
   },
   "file_extension": ".py",
   "mimetype": "text/x-python",
   "name": "python",
   "nbconvert_exporter": "python",
   "pygments_lexer": "ipython3",
   "version": "3.11.5"
  }
 },
 "nbformat": 4,
 "nbformat_minor": 2
}
